{
 "cells": [
  {
   "cell_type": "code",
   "execution_count": 29,
   "metadata": {},
   "outputs": [],
   "source": [
    "#client\n",
    "import socket\n",
    "import struct\n",
    "import hashlib\n",
    "\n",
    "def make_check_sum(ACK, SEQ, data_enc, UDP_Data):\n",
    "    check_sum_data = (UDP_Data.pack(ACK, SEQ, data_enc))\n",
    "    chkSum = bytes(hashlib.md5(check_sum_data).hexdigest(), encoding=\"UTF-8\")\n",
    "    return chkSum"
   ]
  },
  {
   "cell_type": "code",
   "execution_count": null,
   "metadata": {},
   "outputs": [],
   "source": [
    "\n",
    "IP_ADDR = '192.168.0.104'\n",
    "PORT = 9999"
   ]
  },
  {
   "cell_type": "code",
   "execution_count": null,
   "metadata": {},
   "outputs": [],
   "source": [
    "\n",
    "sock = socket.socket(socket.AF_INET, socket.SOCK_DGRAM)\n",
    "\n",
    "ACK = 0\n",
    "SEQ = 0\n",
    "\n",
    "data = input(\"Enter your message: \")\n",
    "packet_size = input('Enter packet size: ')\n",
    "packet_data = struct.Struct(packet_size+'s')\n",
    "\n",
    "\n",
    "while data != 'kill':\n",
    "    data_enc = data.encode()\n",
    "    check_sum = make_check_sum(ACK, SEQ, data_enc, packet_data)\n",
    "\n",
    "    values = (ACK, SEQ, data_enc, check_sum)\n",
    "    packet = packet_data.pack(*values)\n",
    "\n",
    "    print('______Sending Packet______')\n",
    "    Flag = True\n",
    "    while Flag == True:\n",
    "        try:\n",
    "            currentACK = ACK\n",
    "\n",
    "            sock.sendto(packet, (IP_ADDR, PORT))\n",
    "            print('______Packet Sent______')\n",
    "\n",
    "            # wait for ack from receiver\n",
    "            response_sock = socket.socket(socket.AF_INET, socket.SOCK_DGRAM)\n",
    "            # if timeout time exceeds move to except block\n",
    "            response_sock.settimeout(0.09)\n",
    "            response_sock.bind((IP_ADDR, 8888))\n",
    "\n",
    "            print('______Receiving Server Response______')\n",
    "\n",
    "            rec_data, addr = response_sock.recvfrom(1024)\n",
    "            recv_packet = \n",
    "        except:\n",
    "\n",
    "\n",
    "sock.connect((IP_ADDR, PORT))\n",
    "\n",
    "print(sock.recv(1024).decode())\n",
    "\n",
    "sock.close()"
   ]
  },
  {
   "cell_type": "code",
   "execution_count": null,
   "metadata": {},
   "outputs": [],
   "source": []
  }
 ],
 "metadata": {
  "kernelspec": {
   "display_name": "Python 3",
   "language": "python",
   "name": "python3"
  },
  "language_info": {
   "codemirror_mode": {
    "name": "ipython",
    "version": 3
   },
   "file_extension": ".py",
   "mimetype": "text/x-python",
   "name": "python",
   "nbconvert_exporter": "python",
   "pygments_lexer": "ipython3",
   "version": "3.11.2"
  },
  "orig_nbformat": 4
 },
 "nbformat": 4,
 "nbformat_minor": 2
}
